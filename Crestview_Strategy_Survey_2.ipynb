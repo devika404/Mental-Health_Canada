{
 "cells": [
  {
   "cell_type": "code",
   "execution_count": 1,
   "metadata": {},
   "outputs": [],
   "source": [
    "import pandas as pd"
   ]
  },
  {
   "cell_type": "code",
   "execution_count": 2,
   "metadata": {},
   "outputs": [],
   "source": [
    "df_1=pd.read_csv(\"Survey 2_Results.csv\",encoding= 'unicode_escape')"
   ]
  },
  {
   "cell_type": "code",
   "execution_count": 3,
   "metadata": {},
   "outputs": [
    {
     "data": {
      "text/html": [
       "<div>\n",
       "<style scoped>\n",
       "    .dataframe tbody tr th:only-of-type {\n",
       "        vertical-align: middle;\n",
       "    }\n",
       "\n",
       "    .dataframe tbody tr th {\n",
       "        vertical-align: top;\n",
       "    }\n",
       "\n",
       "    .dataframe thead th {\n",
       "        text-align: right;\n",
       "    }\n",
       "</style>\n",
       "<table border=\"1\" class=\"dataframe\">\n",
       "  <thead>\n",
       "    <tr style=\"text-align: right;\">\n",
       "      <th></th>\n",
       "      <th>ID</th>\n",
       "      <th>Survey status</th>\n",
       "      <th>Preferred language</th>\n",
       "      <th>hWave : WAVE TRACKER - WAVE TRACKER</th>\n",
       "      <th>Consent to participate</th>\n",
       "      <th>Province</th>\n",
       "      <th>Province/region</th>\n",
       "      <th>Age group</th>\n",
       "      <th>Age group.1</th>\n",
       "      <th>Gender identity</th>\n",
       "      <th>...</th>\n",
       "      <th>Q24_2 : How many children between the ages of 6 and 12 years old live in your household?</th>\n",
       "      <th>Q24_3 : How many children between the ages of 12 and 17 years old live in your household?</th>\n",
       "      <th>Q24DK_96 : Prefer  not to answer the age of children living in my household</th>\n",
       "      <th>hChildren : Do you have children living in your household?</th>\n",
       "      <th>Q25 : What is the highest level of education you have completed?</th>\n",
       "      <th>Q26 : What is your current marital status?</th>\n",
       "      <th>Q27 : Which of the following best describes your racial or ethnic group?</th>\n",
       "      <th>Q28 : Total household income received in the 2019 year before taxes?</th>\n",
       "      <th>hIncome : Total household income received in the 2019 year before taxes?</th>\n",
       "      <th>Q29 : Area you consider to be living in</th>\n",
       "    </tr>\n",
       "  </thead>\n",
       "  <tbody>\n",
       "    <tr>\n",
       "      <th>0</th>\n",
       "      <td>3365</td>\n",
       "      <td>complete</td>\n",
       "      <td>English</td>\n",
       "      <td>2</td>\n",
       "      <td>Yes, I agree to participate</td>\n",
       "      <td>Ontario</td>\n",
       "      <td>ON</td>\n",
       "      <td>18 to 29 years</td>\n",
       "      <td>18-39</td>\n",
       "      <td>Woman</td>\n",
       "      <td>...</td>\n",
       "      <td>0.0</td>\n",
       "      <td>0.0</td>\n",
       "      <td>0.0</td>\n",
       "      <td>No Kids</td>\n",
       "      <td>University diploma / degree</td>\n",
       "      <td>Never married</td>\n",
       "      <td>Asian ? East (e.g., Chinese, Japanese, Korean)</td>\n",
       "      <td>Prefer not to answer</td>\n",
       "      <td>Prefer not to answer</td>\n",
       "      <td>Urban area</td>\n",
       "    </tr>\n",
       "    <tr>\n",
       "      <th>1</th>\n",
       "      <td>2683</td>\n",
       "      <td>complete</td>\n",
       "      <td>English</td>\n",
       "      <td>2</td>\n",
       "      <td>Yes, I agree to participate</td>\n",
       "      <td>Ontario</td>\n",
       "      <td>ON</td>\n",
       "      <td>30 to 39 years</td>\n",
       "      <td>18-39</td>\n",
       "      <td>Man</td>\n",
       "      <td>...</td>\n",
       "      <td>0.0</td>\n",
       "      <td>0.0</td>\n",
       "      <td>0.0</td>\n",
       "      <td>No Kids</td>\n",
       "      <td>University diploma / degree</td>\n",
       "      <td>Married</td>\n",
       "      <td>White (European, North American)</td>\n",
       "      <td>$140,000 or more</td>\n",
       "      <td>120k+</td>\n",
       "      <td>Urban area</td>\n",
       "    </tr>\n",
       "    <tr>\n",
       "      <th>2</th>\n",
       "      <td>6777</td>\n",
       "      <td>complete</td>\n",
       "      <td>English</td>\n",
       "      <td>2</td>\n",
       "      <td>Yes, I agree to participate</td>\n",
       "      <td>Alberta</td>\n",
       "      <td>AB</td>\n",
       "      <td>50 to 59 years</td>\n",
       "      <td>40-59</td>\n",
       "      <td>Woman</td>\n",
       "      <td>...</td>\n",
       "      <td>0.0</td>\n",
       "      <td>0.0</td>\n",
       "      <td>0.0</td>\n",
       "      <td>No Kids</td>\n",
       "      <td>University diploma / degree</td>\n",
       "      <td>Divorced</td>\n",
       "      <td>White (European, North American)</td>\n",
       "      <td>$40,000  -  $59,999</td>\n",
       "      <td>40-79k</td>\n",
       "      <td>Suburban area</td>\n",
       "    </tr>\n",
       "    <tr>\n",
       "      <th>3</th>\n",
       "      <td>6795</td>\n",
       "      <td>complete</td>\n",
       "      <td>English</td>\n",
       "      <td>2</td>\n",
       "      <td>Yes, I agree to participate</td>\n",
       "      <td>Alberta</td>\n",
       "      <td>AB</td>\n",
       "      <td>50 to 59 years</td>\n",
       "      <td>40-59</td>\n",
       "      <td>Prefer not to answer</td>\n",
       "      <td>...</td>\n",
       "      <td>0.0</td>\n",
       "      <td>1.0</td>\n",
       "      <td>0.0</td>\n",
       "      <td>Kids</td>\n",
       "      <td>Some post-high school education (college, tech...</td>\n",
       "      <td>Married</td>\n",
       "      <td>Asian ? East (e.g., Chinese, Japanese, Korean)</td>\n",
       "      <td>Prefer not to answer</td>\n",
       "      <td>Prefer not to answer</td>\n",
       "      <td>Urban area</td>\n",
       "    </tr>\n",
       "    <tr>\n",
       "      <th>4</th>\n",
       "      <td>6726</td>\n",
       "      <td>complete</td>\n",
       "      <td>English</td>\n",
       "      <td>2</td>\n",
       "      <td>Yes, I agree to participate</td>\n",
       "      <td>Ontario</td>\n",
       "      <td>ON</td>\n",
       "      <td>30 to 39 years</td>\n",
       "      <td>18-39</td>\n",
       "      <td>Man</td>\n",
       "      <td>...</td>\n",
       "      <td>NaN</td>\n",
       "      <td>NaN</td>\n",
       "      <td>NaN</td>\n",
       "      <td>No Kids</td>\n",
       "      <td>University diploma / degree</td>\n",
       "      <td>Never married</td>\n",
       "      <td>White (European, North American)</td>\n",
       "      <td>$100,000  -  $119,999</td>\n",
       "      <td>80-119k</td>\n",
       "      <td>Urban area</td>\n",
       "    </tr>\n",
       "  </tbody>\n",
       "</table>\n",
       "<p>5 rows × 50 columns</p>\n",
       "</div>"
      ],
      "text/plain": [
       "     ID Survey status Preferred language  hWave : WAVE TRACKER - WAVE TRACKER  \\\n",
       "0  3365      complete            English                                    2   \n",
       "1  2683      complete            English                                    2   \n",
       "2  6777      complete            English                                    2   \n",
       "3  6795      complete            English                                    2   \n",
       "4  6726      complete            English                                    2   \n",
       "\n",
       "        Consent to participate Province Province/region       Age group  \\\n",
       "0  Yes, I agree to participate  Ontario              ON  18 to 29 years   \n",
       "1  Yes, I agree to participate  Ontario              ON  30 to 39 years   \n",
       "2  Yes, I agree to participate  Alberta              AB  50 to 59 years   \n",
       "3  Yes, I agree to participate  Alberta              AB  50 to 59 years   \n",
       "4  Yes, I agree to participate  Ontario              ON  30 to 39 years   \n",
       "\n",
       "  Age group.1       Gender identity  ...  \\\n",
       "0       18-39                 Woman  ...   \n",
       "1       18-39                   Man  ...   \n",
       "2       40-59                 Woman  ...   \n",
       "3       40-59  Prefer not to answer  ...   \n",
       "4       18-39                   Man  ...   \n",
       "\n",
       "  Q24_2 : How many children between the ages of 6 and 12 years old live in your household?  \\\n",
       "0                                                0.0                                         \n",
       "1                                                0.0                                         \n",
       "2                                                0.0                                         \n",
       "3                                                0.0                                         \n",
       "4                                                NaN                                         \n",
       "\n",
       "   Q24_3 : How many children between the ages of 12 and 17 years old live in your household?  \\\n",
       "0                                                0.0                                           \n",
       "1                                                0.0                                           \n",
       "2                                                0.0                                           \n",
       "3                                                1.0                                           \n",
       "4                                                NaN                                           \n",
       "\n",
       "   Q24DK_96 : Prefer  not to answer the age of children living in my household  \\\n",
       "0                                                0.0                             \n",
       "1                                                0.0                             \n",
       "2                                                0.0                             \n",
       "3                                                0.0                             \n",
       "4                                                NaN                             \n",
       "\n",
       "   hChildren : Do you have children living in your household?  \\\n",
       "0                                            No Kids            \n",
       "1                                            No Kids            \n",
       "2                                            No Kids            \n",
       "3                                               Kids            \n",
       "4                                            No Kids            \n",
       "\n",
       "   Q25 : What is the highest level of education you have completed?  \\\n",
       "0                        University diploma / degree                  \n",
       "1                        University diploma / degree                  \n",
       "2                        University diploma / degree                  \n",
       "3  Some post-high school education (college, tech...                  \n",
       "4                        University diploma / degree                  \n",
       "\n",
       "   Q26 : What is your current marital status?  \\\n",
       "0                               Never married   \n",
       "1                                     Married   \n",
       "2                                    Divorced   \n",
       "3                                     Married   \n",
       "4                               Never married   \n",
       "\n",
       "   Q27 : Which of the following best describes your racial or ethnic group?   \\\n",
       "0     Asian ? East (e.g., Chinese, Japanese, Korean)                           \n",
       "1                   White (European, North American)                           \n",
       "2                   White (European, North American)                           \n",
       "3     Asian ? East (e.g., Chinese, Japanese, Korean)                           \n",
       "4                   White (European, North American)                           \n",
       "\n",
       "   Q28 : Total household income received in the 2019 year before taxes?  \\\n",
       "0                               Prefer not to answer                      \n",
       "1                                   $140,000 or more                      \n",
       "2                                $40,000  -  $59,999                      \n",
       "3                               Prefer not to answer                      \n",
       "4                              $100,000  -  $119,999                      \n",
       "\n",
       "  hIncome : Total household income received in the 2019 year before taxes?  \\\n",
       "0                               Prefer not to answer                         \n",
       "1                                              120k+                         \n",
       "2                                             40-79k                         \n",
       "3                               Prefer not to answer                         \n",
       "4                                            80-119k                         \n",
       "\n",
       "  Q29 : Area you consider to be living in  \n",
       "0                              Urban area  \n",
       "1                              Urban area  \n",
       "2                           Suburban area  \n",
       "3                              Urban area  \n",
       "4                              Urban area  \n",
       "\n",
       "[5 rows x 50 columns]"
      ]
     },
     "execution_count": 3,
     "metadata": {},
     "output_type": "execute_result"
    }
   ],
   "source": [
    "df_1.head()"
   ]
  },
  {
   "cell_type": "code",
   "execution_count": 4,
   "metadata": {},
   "outputs": [
    {
     "data": {
      "text/plain": [
       "(1002, 50)"
      ]
     },
     "execution_count": 4,
     "metadata": {},
     "output_type": "execute_result"
    }
   ],
   "source": [
    "df_1.shape"
   ]
  },
  {
   "cell_type": "code",
   "execution_count": 5,
   "metadata": {},
   "outputs": [
    {
     "data": {
      "text/plain": [
       "Index(['ID', 'Survey status', 'Preferred language',\n",
       "       'hWave : WAVE TRACKER - WAVE TRACKER', 'Consent to participate',\n",
       "       'Province', 'Province/region', 'Age group', 'Age group.1',\n",
       "       'Gender identity', 'Gender identity.1',\n",
       "       'Q4_1 : I, or someone close to me, has tested positive for COVID-19 ',\n",
       "       'Q4_2 : I, or someone close to me, has had symptoms of COVID-19 but has not been tested ',\n",
       "       'Q4_3 : I, or someone close to me, has been tested for COVID-19 but it was negative',\n",
       "       'Q4_4 : I, or someone close to me, is elderly and/or has a health condition that increases the risk of serious illness from COVID-19 ',\n",
       "       'Q4_5 : I have a job that exposes me to high risk of getting COVID-19 ',\n",
       "       'Q4_6 : Someone close to me has a job that exposes them to high risk of getting COVID-19 ',\n",
       "       'Q4_99 : None of the above',\n",
       "       'Q5 : How worried are you about the impact of COVID-19 on your personal financial situation?',\n",
       "       'Q6 : How have physical distancing measures due to the COVID-19 pandemic affected your employment situation? ',\n",
       "       'Q6b : On average, how has the number of hours you are working for pay been affected by the COVID-19 pandemic? ',\n",
       "       'Q7 : How worried are you that you or someone close to you (close relative or friend) will get ill from COVID-19?',\n",
       "       'Q8x1 : P2W frequency - Feeling nervous, anxious or on edge',\n",
       "       'Q8x2 : P2W frequency - Not being able to stop or control worrying',\n",
       "       'Q8x3 : P2W frequency - Worrying too much about different things',\n",
       "       'Q8x4 : P2W frequency - Trouble relaxing',\n",
       "       'Q8x5 : P2W frequency - Being so restless that it?s hard to sit still',\n",
       "       'Q8x6 : P2W frequency - Becoming easily annoyed or irritable',\n",
       "       'Q8x7 : P2W frequency - Feeling afraid as if something awful might happen',\n",
       "       'Q15 : During the PAST 7 DAYS, on how many days did you drink ALCOHOL?',\n",
       "       'Q16 : Q16 - On how many of the PAST 7 DAYS did you drink 4 or more  drinks on one occasion? ',\n",
       "       'Q17 : In the PAST 7 DAYS, did you drink more ALCOHOL, about the same, or less alcohol overall than you did before the COVID-19 pandemic started?',\n",
       "       'Q18 : During the PAST 7 DAYS, on how many days did you use CANNABIS (also known as marijuana, hash, 'pot')?',\n",
       "       'Q19 : In the PAST 7 DAYS, did you use CANNABIS more often, about the same, or less often overall than you did before the COVID-19 pandemic started? ',\n",
       "       'Q20x1 : In the PAST 7 DAYS, how often have you felt depressed? ',\n",
       "       'Q20x2 : In the PAST 7 DAYS, how often have you felt lonely?',\n",
       "       'Q20x3 : In the PAST 7 DAYS, how often have you felt hopeful about the future? ',\n",
       "       'Q23 : Including yourself, how many people are currently living in your household?',\n",
       "       'Live alone or with others?',\n",
       "       'Q24_1 : How many children <6 years old live in your household?',\n",
       "       'Q24_2 : How many children between the ages of 6 and 12 years old live in your household?',\n",
       "       'Q24_3 : How many children between the ages of 12 and 17 years old live in your household?',\n",
       "       'Q24DK_96 : Prefer  not to answer the age of children living in my household',\n",
       "       'hChildren : Do you have children living in your household?',\n",
       "       'Q25 : What is the highest level of education you have completed?',\n",
       "       'Q26 : What is your current marital status?',\n",
       "       'Q27 : Which of the following best describes your racial or ethnic group? ',\n",
       "       'Q28 : Total household income received in the 2019 year before taxes?',\n",
       "       'hIncome : Total household income received in the 2019 year before taxes?',\n",
       "       'Q29 : Area you consider to be living in'],\n",
       "      dtype='object')"
      ]
     },
     "execution_count": 5,
     "metadata": {},
     "output_type": "execute_result"
    }
   ],
   "source": [
    "df_1.columns"
   ]
  },
  {
   "cell_type": "code",
   "execution_count": 6,
   "metadata": {},
   "outputs": [
    {
     "data": {
      "text/plain": [
       "complete    1002\n",
       "Name: Survey status, dtype: int64"
      ]
     },
     "execution_count": 6,
     "metadata": {},
     "output_type": "execute_result"
    }
   ],
   "source": [
    "df_1['Survey status'].value_counts()"
   ]
  },
  {
   "cell_type": "code",
   "execution_count": 7,
   "metadata": {},
   "outputs": [
    {
     "data": {
      "text/plain": [
       "2    1002\n",
       "Name: hWave : WAVE TRACKER - WAVE TRACKER, dtype: int64"
      ]
     },
     "execution_count": 7,
     "metadata": {},
     "output_type": "execute_result"
    }
   ],
   "source": [
    "df_1['hWave : WAVE TRACKER - WAVE TRACKER'].value_counts()"
   ]
  },
  {
   "cell_type": "code",
   "execution_count": 8,
   "metadata": {},
   "outputs": [
    {
     "data": {
      "text/plain": [
       "Yes, I agree to participate    1002\n",
       "Name: Consent to participate, dtype: int64"
      ]
     },
     "execution_count": 8,
     "metadata": {},
     "output_type": "execute_result"
    }
   ],
   "source": [
    "df_1['Consent to participate'].value_counts()"
   ]
  },
  {
   "cell_type": "code",
   "execution_count": 9,
   "metadata": {},
   "outputs": [
    {
     "data": {
      "text/plain": [
       "30 to 39 years       259\n",
       "60 to 69 years       178\n",
       "50 to 59 years       176\n",
       "40 to 49 years       136\n",
       "18 to 29 years       130\n",
       "70 years and over    123\n",
       "Name: Age group, dtype: int64"
      ]
     },
     "execution_count": 9,
     "metadata": {},
     "output_type": "execute_result"
    }
   ],
   "source": [
    "df_1['Age group'].value_counts()"
   ]
  },
  {
   "cell_type": "code",
   "execution_count": 10,
   "metadata": {},
   "outputs": [
    {
     "data": {
      "text/plain": [
       "18-39    389\n",
       "40-59    312\n",
       "60+      301\n",
       "Name: Age group.1, dtype: int64"
      ]
     },
     "execution_count": 10,
     "metadata": {},
     "output_type": "execute_result"
    }
   ],
   "source": [
    "df_1['Age group.1'].value_counts()"
   ]
  },
  {
   "cell_type": "code",
   "execution_count": 11,
   "metadata": {},
   "outputs": [
    {
     "data": {
      "text/plain": [
       "Woman                                         497\n",
       "Man                                           492\n",
       "Non-binary (genderqueer, gender fluid)          3\n",
       "Identity not listed                             2\n",
       "Transgender man                                 2\n",
       "Prefer not to answer                            2\n",
       "Two-Spirit                                      2\n",
       "Transgender woman                               1\n",
       "Questioning/Not sure of my gender identity      1\n",
       "Name: Gender identity, dtype: int64"
      ]
     },
     "execution_count": 11,
     "metadata": {},
     "output_type": "execute_result"
    }
   ],
   "source": [
    "df_1['Gender identity'].value_counts()"
   ]
  },
  {
   "cell_type": "code",
   "execution_count": 12,
   "metadata": {},
   "outputs": [
    {
     "data": {
      "text/plain": [
       "Female    497\n",
       "Male      492\n",
       "Other      13\n",
       "Name: Gender identity.1, dtype: int64"
      ]
     },
     "execution_count": 12,
     "metadata": {},
     "output_type": "execute_result"
    }
   ],
   "source": [
    "df_1['Gender identity.1'].value_counts()"
   ]
  },
  {
   "cell_type": "code",
   "execution_count": 13,
   "metadata": {},
   "outputs": [
    {
     "data": {
      "text/plain": [
       "Ontario                      418\n",
       "British Columbia             146\n",
       "Alberta                      140\n",
       "Manitoba                      62\n",
       "Quebec                        55\n",
       "Nova Scotia                   53\n",
       "Saskatchewan                  46\n",
       "New Brunswick                 34\n",
       "Newfoundland and Labrador     27\n",
       "Prince Edward Island          21\n",
       "Name: Province, dtype: int64"
      ]
     },
     "execution_count": 13,
     "metadata": {},
     "output_type": "execute_result"
    }
   ],
   "source": [
    "df_1['Province'].value_counts()"
   ]
  },
  {
   "cell_type": "code",
   "execution_count": 14,
   "metadata": {},
   "outputs": [
    {
     "data": {
      "text/plain": [
       "ON        418\n",
       "QC/ATL    190\n",
       "BC        146\n",
       "AB        140\n",
       "SK/MN     108\n",
       "Name: Province/region, dtype: int64"
      ]
     },
     "execution_count": 14,
     "metadata": {},
     "output_type": "execute_result"
    }
   ],
   "source": [
    "df_1['Province/region'].value_counts()"
   ]
  },
  {
   "cell_type": "code",
   "execution_count": 15,
   "metadata": {},
   "outputs": [
    {
     "data": {
      "text/plain": [
       "Not at all            0.414172\n",
       "Several days          0.359281\n",
       "Over half the days    0.126747\n",
       "Nearly every day      0.099800\n",
       "Name: Q8x1 : P2W frequency - Feeling nervous, anxious or on edge, dtype: float64"
      ]
     },
     "execution_count": 15,
     "metadata": {},
     "output_type": "execute_result"
    }
   ],
   "source": [
    "df_1['Q8x1 : P2W frequency - Feeling nervous, anxious or on edge'].value_counts(normalize=True)"
   ]
  },
  {
   "cell_type": "code",
   "execution_count": 23,
   "metadata": {},
   "outputs": [
    {
     "data": {
      "text/plain": [
       "Not at all            0.414172\n",
       "Several days          0.359281\n",
       "Over half the days    0.126747\n",
       "Nearly every day      0.099800\n",
       "Name: Q8x1 : P2W frequency - Feeling nervous, anxious or on edge, dtype: float64"
      ]
     },
     "execution_count": 23,
     "metadata": {},
     "output_type": "execute_result"
    }
   ],
   "source": [
    "df_1['Q8x1 : P2W frequency - Feeling nervous, anxious or on edge'].value_counts(normalize=True)"
   ]
  },
  {
   "cell_type": "code",
   "execution_count": 24,
   "metadata": {},
   "outputs": [
    {
     "data": {
      "text/plain": [
       "Not at all            0.545908\n",
       "Several days          0.285429\n",
       "Over half the days    0.089820\n",
       "Nearly every day      0.078842\n",
       "Name: Q8x2 : P2W frequency - Not being able to stop or control worrying, dtype: float64"
      ]
     },
     "execution_count": 24,
     "metadata": {},
     "output_type": "execute_result"
    }
   ],
   "source": [
    "df_1['Q8x2 : P2W frequency - Not being able to stop or control worrying'].value_counts(normalize=True)"
   ]
  },
  {
   "cell_type": "code",
   "execution_count": 25,
   "metadata": {},
   "outputs": [
    {
     "data": {
      "text/plain": [
       "Not at all            0.423154\n",
       "Several days          0.367265\n",
       "Over half the days    0.114770\n",
       "Nearly every day      0.094810\n",
       "Name: Q8x3 : P2W frequency - Worrying too much about different things, dtype: float64"
      ]
     },
     "execution_count": 25,
     "metadata": {},
     "output_type": "execute_result"
    }
   ],
   "source": [
    "df_1['Q8x3 : P2W frequency - Worrying too much about different things'].value_counts(normalize=True)"
   ]
  },
  {
   "cell_type": "code",
   "execution_count": 26,
   "metadata": {},
   "outputs": [
    {
     "data": {
      "text/plain": [
       "Not at all            0.428144\n",
       "Several days          0.359281\n",
       "Nearly every day      0.109780\n",
       "Over half the days    0.102794\n",
       "Name: Q8x4 : P2W frequency - Trouble relaxing, dtype: float64"
      ]
     },
     "execution_count": 26,
     "metadata": {},
     "output_type": "execute_result"
    }
   ],
   "source": [
    "df_1['Q8x4 : P2W frequency - Trouble relaxing'].value_counts(normalize=True)"
   ]
  },
  {
   "cell_type": "code",
   "execution_count": 27,
   "metadata": {},
   "outputs": [
    {
     "data": {
      "text/plain": [
       "Not at all            0.582834\n",
       "Several days          0.257485\n",
       "Over half the days    0.095808\n",
       "Nearly every day      0.063872\n",
       "Name: Q8x5 : P2W frequency - Being so restless that it?s hard to sit still, dtype: float64"
      ]
     },
     "execution_count": 27,
     "metadata": {},
     "output_type": "execute_result"
    }
   ],
   "source": [
    "df_1['Q8x5 : P2W frequency - Being so restless that it?s hard to sit still'].value_counts(normalize=True)"
   ]
  },
  {
   "cell_type": "code",
   "execution_count": 28,
   "metadata": {},
   "outputs": [
    {
     "data": {
      "text/plain": [
       "Not at all            0.408184\n",
       "Several days          0.355289\n",
       "Over half the days    0.139721\n",
       "Nearly every day      0.096806\n",
       "Name: Q8x6 : P2W frequency - Becoming easily annoyed or irritable, dtype: float64"
      ]
     },
     "execution_count": 28,
     "metadata": {},
     "output_type": "execute_result"
    }
   ],
   "source": [
    "df_1['Q8x6 : P2W frequency - Becoming easily annoyed or irritable'].value_counts(normalize=True)"
   ]
  },
  {
   "cell_type": "code",
   "execution_count": 29,
   "metadata": {
    "scrolled": true
   },
   "outputs": [
    {
     "data": {
      "text/plain": [
       "Not at all            0.551896\n",
       "Several days          0.284431\n",
       "Over half the days    0.087824\n",
       "Nearly every day      0.075848\n",
       "Name: Q8x7 : P2W frequency - Feeling afraid as if something awful might happen, dtype: float64"
      ]
     },
     "execution_count": 29,
     "metadata": {},
     "output_type": "execute_result"
    }
   ],
   "source": [
    "df_1['Q8x7 : P2W frequency - Feeling afraid as if something awful might happen'].value_counts(normalize=True)"
   ]
  },
  {
   "cell_type": "code",
   "execution_count": 30,
   "metadata": {},
   "outputs": [
    {
     "data": {
      "text/plain": [
       "0                         0.318363\n",
       "1                         0.136727\n",
       "2                         0.129741\n",
       "7                         0.100798\n",
       "I do not drink alcohol    0.084830\n",
       "3                         0.076846\n",
       "4                         0.061876\n",
       "5                         0.054890\n",
       "6                         0.034930\n",
       "Prefer not to answer      0.000998\n",
       "Name: Q15 : During the PAST 7 DAYS, on how many days did you drink ALCOHOL?, dtype: float64"
      ]
     },
     "execution_count": 30,
     "metadata": {},
     "output_type": "execute_result"
    }
   ],
   "source": [
    "df_1['Q15 : During the PAST 7 DAYS, on how many days did you drink ALCOHOL?'].value_counts(normalize=True)"
   ]
  },
  {
   "cell_type": "code",
   "execution_count": 31,
   "metadata": {},
   "outputs": [
    {
     "data": {
      "text/plain": [
       "Rarely or none of the time (less than 1 day)                0.522954\n",
       "Some or a little of the time (1-2 days)                     0.265469\n",
       "Occasionally or a moderate amount of the time (3-4 days)    0.139721\n",
       "Most or all of the time (5-7 days)                          0.071856\n",
       "Name: Q20x1 : In the PAST 7 DAYS, how often have you felt depressed? , dtype: float64"
      ]
     },
     "execution_count": 31,
     "metadata": {},
     "output_type": "execute_result"
    }
   ],
   "source": [
    "df_1['Q20x1 : In the PAST 7 DAYS, how often have you felt depressed? '].value_counts(normalize=True)"
   ]
  },
  {
   "cell_type": "code",
   "execution_count": 32,
   "metadata": {},
   "outputs": [
    {
     "data": {
      "text/plain": [
       "Rarely or none of the time (less than 1 day)                0.507984\n",
       "Some or a little of the time (1-2 days)                     0.255489\n",
       "Occasionally or a moderate amount of the time (3-4 days)    0.147705\n",
       "Most or all of the time (5-7 days)                          0.088822\n",
       "Name: Q20x2 : In the PAST 7 DAYS, how often have you felt lonely?, dtype: float64"
      ]
     },
     "execution_count": 32,
     "metadata": {},
     "output_type": "execute_result"
    }
   ],
   "source": [
    "df_1['Q20x2 : In the PAST 7 DAYS, how often have you felt lonely?'].value_counts(normalize=True)"
   ]
  },
  {
   "cell_type": "code",
   "execution_count": 33,
   "metadata": {
    "scrolled": true
   },
   "outputs": [
    {
     "data": {
      "text/plain": [
       "Some or a little of the time (1-2 days)                     0.332335\n",
       "Occasionally or a moderate amount of the time (3-4 days)    0.274451\n",
       "Rarely or none of the time (less than 1 day)                0.214571\n",
       "Most or all of the time (5-7 days)                          0.178643\n",
       "Name: Q20x3 : In the PAST 7 DAYS, how often have you felt hopeful about the future? , dtype: float64"
      ]
     },
     "execution_count": 33,
     "metadata": {},
     "output_type": "execute_result"
    }
   ],
   "source": [
    "df_1['Q20x3 : In the PAST 7 DAYS, how often have you felt hopeful about the future? '].value_counts(normalize=True)"
   ]
  },
  {
   "cell_type": "code",
   "execution_count": 58,
   "metadata": {},
   "outputs": [
    {
     "data": {
      "text/plain": [
       "18-39    389\n",
       "40-59    312\n",
       "60+      301\n",
       "Name: Age group.1, dtype: int64"
      ]
     },
     "execution_count": 58,
     "metadata": {},
     "output_type": "execute_result"
    }
   ],
   "source": [
    "df_1['Age group.1'].value_counts()"
   ]
  },
  {
   "cell_type": "code",
   "execution_count": 59,
   "metadata": {},
   "outputs": [],
   "source": [
    "df_youth=df_1[df_1['Age group.1']=='18-39']\n",
    "df_mid=df_1[df_1['Age group.1']=='40-59']\n",
    "df_senior=df_1[df_1['Age group.1']=='60+']"
   ]
  },
  {
   "cell_type": "code",
   "execution_count": 60,
   "metadata": {},
   "outputs": [
    {
     "data": {
      "text/plain": [
       "Rarely or none of the time (less than 1 day)                0.473008\n",
       "Some or a little of the time (1-2 days)                     0.277635\n",
       "Occasionally or a moderate amount of the time (3-4 days)    0.172237\n",
       "Most or all of the time (5-7 days)                          0.077121\n",
       "Name: Q20x1 : In the PAST 7 DAYS, how often have you felt depressed? , dtype: float64"
      ]
     },
     "execution_count": 60,
     "metadata": {},
     "output_type": "execute_result"
    }
   ],
   "source": [
    "df_youth['Q20x1 : In the PAST 7 DAYS, how often have you felt depressed? '].value_counts(normalize=True)"
   ]
  },
  {
   "cell_type": "code",
   "execution_count": 61,
   "metadata": {},
   "outputs": [
    {
     "data": {
      "text/plain": [
       "Rarely or none of the time (less than 1 day)                0.471154\n",
       "Some or a little of the time (1-2 days)                     0.278846\n",
       "Occasionally or a moderate amount of the time (3-4 days)    0.153846\n",
       "Most or all of the time (5-7 days)                          0.096154\n",
       "Name: Q20x1 : In the PAST 7 DAYS, how often have you felt depressed? , dtype: float64"
      ]
     },
     "execution_count": 61,
     "metadata": {},
     "output_type": "execute_result"
    }
   ],
   "source": [
    "df_mid['Q20x1 : In the PAST 7 DAYS, how often have you felt depressed? '].value_counts(normalize=True)"
   ]
  },
  {
   "cell_type": "code",
   "execution_count": 62,
   "metadata": {},
   "outputs": [
    {
     "data": {
      "text/plain": [
       "Rarely or none of the time (less than 1 day)                0.641196\n",
       "Some or a little of the time (1-2 days)                     0.235880\n",
       "Occasionally or a moderate amount of the time (3-4 days)    0.083056\n",
       "Most or all of the time (5-7 days)                          0.039867\n",
       "Name: Q20x1 : In the PAST 7 DAYS, how often have you felt depressed? , dtype: float64"
      ]
     },
     "execution_count": 62,
     "metadata": {},
     "output_type": "execute_result"
    }
   ],
   "source": [
    "df_senior['Q20x1 : In the PAST 7 DAYS, how often have you felt depressed? '].value_counts(normalize=True)"
   ]
  },
  {
   "cell_type": "code",
   "execution_count": 63,
   "metadata": {},
   "outputs": [
    {
     "data": {
      "text/plain": [
       "8.360000000000001"
      ]
     },
     "execution_count": 63,
     "metadata": {},
     "output_type": "execute_result"
    }
   ],
   "source": [
    "16.26-7.90"
   ]
  },
  {
   "cell_type": "code",
   "execution_count": null,
   "metadata": {},
   "outputs": [],
   "source": []
  }
 ],
 "metadata": {
  "kernelspec": {
   "display_name": "Python 3",
   "language": "python",
   "name": "python3"
  },
  "language_info": {
   "codemirror_mode": {
    "name": "ipython",
    "version": 3
   },
   "file_extension": ".py",
   "mimetype": "text/x-python",
   "name": "python",
   "nbconvert_exporter": "python",
   "pygments_lexer": "ipython3",
   "version": "3.8.3"
  }
 },
 "nbformat": 4,
 "nbformat_minor": 4
}
